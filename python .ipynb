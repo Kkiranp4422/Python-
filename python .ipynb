{
 "cells": [
  {
   "cell_type": "markdown",
   "id": "ad88aedf",
   "metadata": {},
   "source": [
    "# Python"
   ]
  },
  {
   "cell_type": "markdown",
   "id": "8fa37715",
   "metadata": {},
   "source": [
    "1.Write a program using list comprehension to find primes \n",
    "in range 2 to 100."
   ]
  },
  {
   "cell_type": "code",
   "execution_count": 5,
   "id": "258fc143",
   "metadata": {},
   "outputs": [
    {
     "name": "stdout",
     "output_type": "stream",
     "text": [
      "[2, 3, 4, 5, 7, 11, 13, 17, 19, 23, 29, 31, 37, 41, 43, 47, 53, 59, 61, 67, 71, 73, 79, 83, 89, 97]\n"
     ]
    }
   ],
   "source": [
    "\n",
    "\n",
    "primes = [num for num in range(2,100) if 0 not in [num%i for i in range(2,num//2)]]\n",
    "\n",
    "print (primes)"
   ]
  },
  {
   "cell_type": "markdown",
   "id": "018a2d33",
   "metadata": {},
   "source": [
    "2.Write a function to reverse a string"
   ]
  },
  {
   "cell_type": "markdown",
   "id": "50a6925b",
   "metadata": {},
   "source": [
    "string='reverse a string'"
   ]
  },
  {
   "cell_type": "code",
   "execution_count": 15,
   "id": "3c8bd885",
   "metadata": {},
   "outputs": [
    {
     "name": "stdout",
     "output_type": "stream",
     "text": [
      "The given string is : \n",
      "reverse a string\n",
      "The reversed string is :  gnirts a esrever\n"
     ]
    }
   ],
   "source": [
    "def reversestr(string):\n",
    "    string = string[::-1]\n",
    "    return string\n",
    " \n",
    "s = \"reverse a string\"\n",
    " \n",
    "print(\"The given string is : \")\n",
    "print(s)\n",
    " \n",
    "str=reversestr(s)\n",
    "\n",
    "print(\"The reversed string is : \", str)\n",
    "\n",
    "# print(reverse(s))"
   ]
  },
  {
   "cell_type": "code",
   "execution_count": null,
   "id": "b11433f9",
   "metadata": {},
   "outputs": [],
   "source": []
  },
  {
   "cell_type": "markdown",
   "id": "493b9f78",
   "metadata": {},
   "source": [
    "3.Write a program to extract the words from the given list which have their first character in uppercase. Days = ['Monday', 'tuesday','friday', 'Sunday', 'Saturday']\n",
    "\n",
    "Output: ['Monday', 'Sunday', 'Saturday'"
   ]
  },
  {
   "cell_type": "code",
   "execution_count": 1,
   "id": "0ccf1f94",
   "metadata": {},
   "outputs": [
    {
     "name": "stdout",
     "output_type": "stream",
     "text": [
      "['Monday', 'tuesday', 'friday', 'Sunday', 'Saturday']\n",
      "\n",
      "Monday\n",
      "Sunday\n",
      "Saturday\n"
     ]
    }
   ],
   "source": [
    "Days = ['Monday', 'tuesday','friday', 'Sunday', 'Saturday']\n",
    "\n",
    "print(Days)\n",
    "print()\n",
    "for i in Days:\n",
    "    if i[0].isupper():\n",
    "        print(i)\n",
    "    "
   ]
  },
  {
   "cell_type": "markdown",
   "id": "094d948f",
   "metadata": {},
   "source": [
    "4.Write a program to extract the year part from the dates in \n",
    "the given list.\n",
    "\n",
    "Batch = ['15-06-1997','15-06-2011','15-06-1993','15-06-2020']\n",
    "\n",
    "Output: ['1997','2011','1993','2020']"
   ]
  },
  {
   "cell_type": "code",
   "execution_count": null,
   "id": "e3e68727",
   "metadata": {},
   "outputs": [],
   "source": []
  },
  {
   "cell_type": "code",
   "execution_count": 19,
   "id": "b0da4724",
   "metadata": {},
   "outputs": [
    {
     "name": "stdout",
     "output_type": "stream",
     "text": [
      "Years are:  ['1997', '2011', '1993', '2020']\n"
     ]
    }
   ],
   "source": [
    "Batch = ['15-06-1997','15-06-2011','15-06-1993','15-06-2020']\n",
    "year = [x.split('-')[2] for x in Batch]\n",
    "print('Years are: ',year)"
   ]
  },
  {
   "cell_type": "code",
   "execution_count": null,
   "id": "abf61204",
   "metadata": {},
   "outputs": [],
   "source": []
  },
  {
   "cell_type": "markdown",
   "id": "3fc0632a",
   "metadata": {},
   "source": [
    "5.Write a program swap the keys to values and values to keys of the given dictionary. \n",
    "\n",
    "Module = {'Data Science':1,'Machine Learning':2, 'SQL':3, 'Big Data':4} \n",
    "\n",
    "Output: {1:'Data Science',2:'Machine Learning', 3:'SQL', 4:'Big Data'}"
   ]
  },
  {
   "cell_type": "code",
   "execution_count": null,
   "id": "84f82c00",
   "metadata": {},
   "outputs": [],
   "source": []
  },
  {
   "cell_type": "code",
   "execution_count": 15,
   "id": "5cc13440",
   "metadata": {},
   "outputs": [
    {
     "name": "stdout",
     "output_type": "stream",
     "text": [
      "original dictionary is : {'Data Science': 1, 'Machine Learning': 2, 'SQL': 3, 'Big Data': 4}\n",
      "\n",
      "swaped dictionary is: {1: ['Data Science'], 2: ['Machine Learning'], 3: ['SQL'], 4: ['Big Data']}\n"
     ]
    }
   ],
   "source": [
    "\n",
    "Module = {'Data Science':1,'Machine Learning':2, 'SQL':3, 'Big Data':4}\n",
    "# output = {}\n",
    "print(\"original dictionary is :\",Module)\n",
    "print()\n",
    "\n",
    "output = dict([(v, [k for k, v1 in Module.items() if v1 == v])\n",
    "for v in set(Module.values())])\n",
    "\n",
    "print(\"swaped dictionary is:\",output)\n"
   ]
  },
  {
   "cell_type": "code",
   "execution_count": null,
   "id": "6bcda571",
   "metadata": {},
   "outputs": [],
   "source": []
  },
  {
   "cell_type": "markdown",
   "id": "99c46d7d",
   "metadata": {},
   "source": [
    "6.Write a program to count the number of elements in the string (given by the user) that are not present in the 'my_string'. \n",
    "\n",
    "Do not count the white spaces.\n",
    "\n",
    "my_string = 'Data Science'"
   ]
  },
  {
   "cell_type": "code",
   "execution_count": null,
   "id": "2ccb7584",
   "metadata": {},
   "outputs": [],
   "source": []
  },
  {
   "cell_type": "code",
   "execution_count": null,
   "id": "d54d0b60",
   "metadata": {},
   "outputs": [],
   "source": []
  },
  {
   "cell_type": "code",
   "execution_count": null,
   "id": "b06572fa",
   "metadata": {},
   "outputs": [],
   "source": []
  },
  {
   "cell_type": "markdown",
   "id": "9d8337ba",
   "metadata": {},
   "source": [
    "7.Define a function to check whether a number is in a range (1000,10000) or not."
   ]
  },
  {
   "cell_type": "code",
   "execution_count": 4,
   "id": "e3a1c4ae",
   "metadata": {},
   "outputs": [
    {
     "name": "stdout",
     "output_type": "stream",
     "text": [
      "take a number: 1234\n",
      "1234  is in the range between 1000 to 10000: \n"
     ]
    }
   ],
   "source": [
    "def rangecheck(n):\n",
    "    \n",
    "    if n in range(1000,10000) :\n",
    "        print(n, \" is in the range between 1000 to 10000: \")\n",
    "    else :\n",
    "        print(\"The number is outside the given range.\")\n",
    "rangecheck(int(input(\"take a number: \")))\n"
   ]
  },
  {
   "cell_type": "code",
   "execution_count": null,
   "id": "6a506a99",
   "metadata": {},
   "outputs": [],
   "source": []
  },
  {
   "cell_type": "code",
   "execution_count": null,
   "id": "41f91ddd",
   "metadata": {},
   "outputs": [],
   "source": []
  },
  {
   "cell_type": "markdown",
   "id": "79ecb88b",
   "metadata": {},
   "source": [
    "8.Write a program to calculate the sum of all elements in the list.\n",
    "\n",
    "test_score = [10, 32, 23, 14, 25]"
   ]
  },
  {
   "cell_type": "code",
   "execution_count": null,
   "id": "966743cc",
   "metadata": {},
   "outputs": [],
   "source": [
    "\n",
    "test_score = [10, 32, 23, 14, 25]\n",
    "add= 0\n",
    "\n",
    "for i in range(0, len(test_score)):\n",
    "add=add + test_score[i]\n",
     "print(\"Sum of all elements in given list: \", add)"
   ]
  },
  {
   "cell_type": "code",
   "execution_count": null,
   "id": "90d834f1",
   "metadata": {},
   "outputs": [],
   "source": []
  },
  {
   "cell_type": "code",
   "execution_count": null,
   "id": "d39b37a2",
   "metadata": {},
   "outputs": [],
   "source": []
  },
  {
   "cell_type": "markdown",
   "id": "d083692d",
   "metadata": {},
   "source": [
    "9.Replace all even numbers in the array with -1.\n",
    "\n",
    "Use the array given below num_array = np.array([0, 21, 32, 13, 44, 45, 26, 28, 38, 34, 65, 48, 76])"
   ]
  },
  {
   "cell_type": "code",
   "execution_count": 4,
   "id": "642b1a65",
   "metadata": {},
   "outputs": [],
   "source": [
    "import numpy as np"
   ]
  },
  {
   "cell_type": "code",
   "execution_count": 9,
   "id": "7c21367b",
   "metadata": {},
   "outputs": [],
   "source": [
    "# array = np.array([0, 21, 32, 13, 44, 45, 26, 28, 38, 34, 65, 48, 76])"
   ]
  },
  {
   "cell_type": "code",
   "execution_count": 14,
   "id": "e954b0b8",
   "metadata": {},
   "outputs": [
    {
     "name": "stdout",
     "output_type": "stream",
     "text": [
      "[-1 21 32 13 44 45 26 28 38 34 65 48 76]\n",
      "[-1 21 -1 13 44 45 26 28 38 34 65 48 76]\n",
      "[-1 21 -1 13 -1 45 26 28 38 34 65 48 76]\n",
      "[-1 21 -1 13 -1 45 -1 28 38 34 65 48 76]\n",
      "[-1 21 -1 13 -1 45 -1 -1 38 34 65 48 76]\n",
      "[-1 21 -1 13 -1 45 -1 -1 -1 34 65 48 76]\n",
      "[-1 21 -1 13 -1 45 -1 -1 -1 -1 65 48 76]\n",
      "[-1 21 -1 13 -1 45 -1 -1 -1 -1 65 -1 76]\n",
      "[-1 21 -1 13 -1 45 -1 -1 -1 -1 65 -1 -1]\n"
     ]
    }
   ],
   "source": [
    "array = np.array([0, 21, 32, 13, 44, 45, 26, 28, 38, 34, 65, 48, 76])\n",
    "for i in range(len(array)):\n",
    " \n",
    "    \n",
    "    if array[i]%2 ==0 :\n",
    "        array[i] = '-1'\n",
    "print(array)\n",
    "        \n",
    " \n",
    "    \n",
    " "
   ]
  },
  {
   "cell_type": "code",
   "execution_count": null,
   "id": "1c036cf1",
   "metadata": {},
   "outputs": [],
   "source": [
    "array = np.array([0, 21, 32, 13, 44, 45, 26, 28, 38, 34, 65, 48, 76])\n",
    "\n",
    "print(\"Enter the String: \")\n",
    "str = int(input())\n",
    "print(\"Enter the old character to search for: \")\n",
    "oldchar = int(input(if array[i]%2 ==0 :))\n",
    "print(\"Enter the new character to replace with: \")\n",
    "newchar = int(input(-1))\n",
    "\n",
    "str = str.replace(oldchar, newchar)\n",
    "print(\"\\nThe new string is: \")\n",
    "print(str)"
   ]
  },
  {
   "cell_type": "markdown",
   "id": "2e36cc99",
   "metadata": {},
   "source": [
    "10.Find the minimum value along each of the rows. \n",
    "\n",
    "Create a 2D Numpy array from list of lists \n",
    "\n",
    "Score = np.array([[210, 402, 383], [140, 375, 106], [140, 125, 217], [292, 240, 295]])"
   ]
  },
  {
   "cell_type": "code",
   "execution_count": 17,
   "id": "a08b0b0e",
   "metadata": {},
   "outputs": [],
   "source": [
    "import numpy as np"
   ]
  },
  {
   "cell_type": "code",
   "execution_count": 2,
   "id": "97ce92c2",
   "metadata": {},
   "outputs": [
    {
     "data": {
      "text/plain": [
       "array([[210, 402, 383],\n",
       "       [140, 375, 106],\n",
       "       [140, 125, 217],\n",
       "       [292, 240, 295]])"
      ]
     },
     "execution_count": 2,
     "metadata": {},
     "output_type": "execute_result"
    }
   ],
   "source": [
    "Score = np.array([[210, 402, 383], [140, 375, 106], [140, 125, 217], [292, 240, 295]])\n",
    "Score"
   ]
  },
  {
   "cell_type": "code",
   "execution_count": 5,
   "id": "d41451b4",
   "metadata": {},
   "outputs": [
    {
     "name": "stdout",
     "output_type": "stream",
     "text": [
      "[210 106 125 240]\n"
     ]
    }
   ],
   "source": [
    "mini=Score.min(axis=1)\n",
    "print(mini)"
   ]
  },
  {
   "cell_type": "code",
   "execution_count": null,
   "id": "74162989",
   "metadata": {},
   "outputs": [],
   "source": []
  },
  {
   "cell_type": "code",
   "execution_count": null,
   "id": "1566d1e3",
   "metadata": {},
   "outputs": [],
   "source": []
  }
 ],
 "metadata": {
  "kernelspec": {
   "display_name": "Python 3 (ipykernel)",
   "language": "python",
   "name": "python3"
  },
  "language_info": {
   "codemirror_mode": {
    "name": "ipython",
    "version": 3
   },
   "file_extension": ".py",
   "mimetype": "text/x-python",
   "name": "python",
   "nbconvert_exporter": "python",
   "pygments_lexer": "ipython3",
   "version": "3.10.9"
  }
 },
 "nbformat": 4,
 "nbformat_minor": 5
}
